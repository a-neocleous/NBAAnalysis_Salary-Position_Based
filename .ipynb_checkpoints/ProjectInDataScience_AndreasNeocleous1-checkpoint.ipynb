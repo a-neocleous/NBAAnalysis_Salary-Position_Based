{
 "cells": [
  {
   "cell_type": "markdown",
   "metadata": {},
   "source": [
    "# <b> <font color='red'>  Project in Data Science </font> </b>"
   ]
  },
  {
   "cell_type": "markdown",
   "metadata": {},
   "source": [
    "## Analysing NBA historical data to discover patterns that should be adopted by franchises to succeed\n",
    "\n",
    "#### <b>Andreas Neocleous\n",
    "a.neocleous12@hotmail.com\n",
    "</b>"
   ]
  },
  {
   "cell_type": "code",
   "execution_count": 1,
   "metadata": {},
   "outputs": [],
   "source": [
    "import requests\n",
    "from bs4 import BeautifulSoup\n",
    "import pandas as pd\n",
    "import matplotlib.pyplot as plt\n",
    "import numpy as np\n",
    "import re"
   ]
  },
  {
   "cell_type": "markdown",
   "metadata": {},
   "source": [
    "### Scraping as a test from hoopshype site"
   ]
  },
  {
   "cell_type": "code",
   "execution_count": 2,
   "metadata": {},
   "outputs": [],
   "source": [
    "url=\"https://hoopshype.com/salaries/players/\"\n",
    "\n",
    "r = requests.get(url,timeout=2.5)\n",
    "r_html = r.text\n",
    "\n",
    "soup = BeautifulSoup(r_html, 'html.parser')\n",
    "\n",
    "salary_table = soup.find('table')"
   ]
  },
  {
   "cell_type": "code",
   "execution_count": 3,
   "metadata": {},
   "outputs": [],
   "source": [
    "length=len(salary_table.find_all(\"td\"))\n",
    "\n",
    "player_names=[salary_table.find_all(\"td\")[i].text.strip() for i in range(9,length,8)]\n",
    "\n",
    "column1=[salary_table.find_all(\"td\")[i].text.strip() for i in range(10,length,8)]\n",
    "column2=[salary_table.find_all(\"td\")[i].text.strip() for i in range(11,length,8)]\n",
    "column3=[salary_table.find_all(\"td\")[i].text.strip() for i in range(12,length,8)]\n",
    "column4=[salary_table.find_all(\"td\")[i].text.strip() for i in range(13,length,8)]\n",
    "column5=[salary_table.find_all(\"td\")[i].text.strip() for i in range(14,length,8)]\n",
    "column6=[salary_table.find_all(\"td\")[i].text.strip() for i in range(15,length,8)]"
   ]
  },
  {
   "cell_type": "code",
   "execution_count": 4,
   "metadata": {},
   "outputs": [
    {
     "data": {
      "text/html": [
       "<div>\n",
       "<style scoped>\n",
       "    .dataframe tbody tr th:only-of-type {\n",
       "        vertical-align: middle;\n",
       "    }\n",
       "\n",
       "    .dataframe tbody tr th {\n",
       "        vertical-align: top;\n",
       "    }\n",
       "\n",
       "    .dataframe thead th {\n",
       "        text-align: right;\n",
       "    }\n",
       "</style>\n",
       "<table border=\"1\" class=\"dataframe\">\n",
       "  <thead>\n",
       "    <tr style=\"text-align: right;\">\n",
       "      <th></th>\n",
       "      <th>player_names</th>\n",
       "      <th>salary ($)</th>\n",
       "    </tr>\n",
       "  </thead>\n",
       "  <tbody>\n",
       "    <tr>\n",
       "      <th>0</th>\n",
       "      <td>Stephen Curry</td>\n",
       "      <td>$45,780,966</td>\n",
       "    </tr>\n",
       "    <tr>\n",
       "      <th>1</th>\n",
       "      <td>John Wall</td>\n",
       "      <td>$44,310,840</td>\n",
       "    </tr>\n",
       "    <tr>\n",
       "      <th>2</th>\n",
       "      <td>James Harden</td>\n",
       "      <td>$44,310,840</td>\n",
       "    </tr>\n",
       "    <tr>\n",
       "      <th>3</th>\n",
       "      <td>Russell Westbrook</td>\n",
       "      <td>$44,211,146</td>\n",
       "    </tr>\n",
       "    <tr>\n",
       "      <th>4</th>\n",
       "      <td>Kevin Durant</td>\n",
       "      <td>$42,018,900</td>\n",
       "    </tr>\n",
       "  </tbody>\n",
       "</table>\n",
       "</div>"
      ],
      "text/plain": [
       "        player_names   salary ($)\n",
       "0      Stephen Curry  $45,780,966\n",
       "1          John Wall  $44,310,840\n",
       "2       James Harden  $44,310,840\n",
       "3  Russell Westbrook  $44,211,146\n",
       "4       Kevin Durant  $42,018,900"
      ]
     },
     "execution_count": 4,
     "metadata": {},
     "output_type": "execute_result"
    }
   ],
   "source": [
    "df_dict={'player_names':player_names,\n",
    "        'salary ($)':column1}\n",
    "        \n",
    "salary_df=pd.DataFrame(df_dict)\n",
    "salary_df[:5]"
   ]
  },
  {
   "cell_type": "markdown",
   "metadata": {},
   "source": [
    "### Transform salaries to numeric values"
   ]
  },
  {
   "cell_type": "code",
   "execution_count": null,
   "metadata": {},
   "outputs": [
    {
     "data": {
      "text/html": [
       "<div>\n",
       "<style scoped>\n",
       "    .dataframe tbody tr th:only-of-type {\n",
       "        vertical-align: middle;\n",
       "    }\n",
       "\n",
       "    .dataframe tbody tr th {\n",
       "        vertical-align: top;\n",
       "    }\n",
       "\n",
       "    .dataframe thead th {\n",
       "        text-align: right;\n",
       "    }\n",
       "</style>\n",
       "<table border=\"1\" class=\"dataframe\">\n",
       "  <thead>\n",
       "    <tr style=\"text-align: right;\">\n",
       "      <th></th>\n",
       "      <th>player_names</th>\n",
       "      <th>salary ($)</th>\n",
       "    </tr>\n",
       "  </thead>\n",
       "  <tbody>\n",
       "    <tr>\n",
       "      <th>0</th>\n",
       "      <td>Stephen Curry</td>\n",
       "      <td>45780966</td>\n",
       "    </tr>\n",
       "    <tr>\n",
       "      <th>1</th>\n",
       "      <td>John Wall</td>\n",
       "      <td>44310840</td>\n",
       "    </tr>\n",
       "    <tr>\n",
       "      <th>2</th>\n",
       "      <td>James Harden</td>\n",
       "      <td>44310840</td>\n",
       "    </tr>\n",
       "    <tr>\n",
       "      <th>3</th>\n",
       "      <td>Russell Westbrook</td>\n",
       "      <td>44211146</td>\n",
       "    </tr>\n",
       "    <tr>\n",
       "      <th>4</th>\n",
       "      <td>Kevin Durant</td>\n",
       "      <td>42018900</td>\n",
       "    </tr>\n",
       "  </tbody>\n",
       "</table>\n",
       "</div>"
      ],
      "text/plain": [
       "        player_names  salary ($)\n",
       "0      Stephen Curry    45780966\n",
       "1          John Wall    44310840\n",
       "2       James Harden    44310840\n",
       "3  Russell Westbrook    44211146\n",
       "4       Kevin Durant    42018900"
      ]
     },
     "execution_count": 5,
     "metadata": {},
     "output_type": "execute_result"
    }
   ],
   "source": [
    "salary_df.replace({'\\$':''}, regex = True,inplace=True)\n",
    "salary_df.replace(',','', regex=True, inplace=True)\n",
    "\n",
    "for item in salary_df.columns[1:]:\n",
    "    \n",
    "    salary_df[item]=pd.to_numeric(salary_df[item])\n",
    "    \n",
    "salary_df[:5]"
   ]
  },
  {
   "cell_type": "markdown",
   "metadata": {},
   "source": [
    "### Creating arrays of years and team names in order to feed them as f string to for loops which is going to create for us all the DataFrames we need"
   ]
  },
  {
   "cell_type": "code",
   "execution_count": null,
   "metadata": {},
   "outputs": [
    {
     "name": "stdout",
     "output_type": "stream",
     "text": [
      "['2020-2021', '2019-2020', '2018-2019', '2017-2018', '2016-2017', '2015-2016', '2014-2015', '2013-2014', '2012-2013', '2011-2012', '2010-2011', '2009-2010', '2008-2009', '2007-2008', '2006-2007', '2005-2006', '2004-2005', '2003-2004', '2002-2003', '2001-2002']\n",
      "['portland_trail_blazers', 'oklahoma_city_thunder', 'los_angeles_clippers', 'cleveland_cavaliers', 'philadelphia_76ers', 'miami_heat', 'golden_state_warriors', 'denver_nuggets', 'houston_rockets', 'orlando_magic', 'los_angeles_lakers', 'milwaukee_bucks', 'toronto_raptors', 'washington_wizards', 'dallas_mavericks', 'san_antonio_spurs', 'utah_jazz', 'brooklyn_nets', 'new_orleans_pelicans', 'boston_celtics', 'minnesota_timberwolves', 'sacramento_kings', 'indiana_pacers', 'chicago_bulls', 'atlanta_hawks', 'detroit_pistons', 'new_york_knicks', 'phoenix_suns', 'memphis_grizzlies', 'charlotte_hornets']\n",
      "20\n",
      "30\n"
     ]
    }
   ],
   "source": [
    "years=[]\n",
    "for i in range(2020,2000,-1):\n",
    "    years.append(f\"{i}-{i+1}\")\n",
    "\n",
    "team_names = [\"portland_trail_blazers\",\"oklahoma_city_thunder\",\"los_angeles_clippers\",\"cleveland_cavaliers\",\"philadelphia_76ers\",\n",
    "              \"miami_heat\",\"golden_state_warriors\",\"denver_nuggets\",\"houston_rockets\",\"orlando_magic\",\n",
    "              \"los_angeles_lakers\",\"milwaukee_bucks\",\"toronto_raptors\",\"washington_wizards\",\"dallas_mavericks\",\n",
    "              \"san_antonio_spurs\",\"utah_jazz\",\"brooklyn_nets\",\"new_orleans_pelicans\",\"boston_celtics\",\n",
    "              \"minnesota_timberwolves\",\"sacramento_kings\",\"indiana_pacers\",\"chicago_bulls\",\"atlanta_hawks\",\n",
    "              \"detroit_pistons\",\"new_york_knicks\",\"phoenix_suns\",\"memphis_grizzlies\",\"charlotte_hornets\"]            \n",
    "              \n",
    "print(years)\n",
    "print(team_names)\n",
    "print(len(years))\n",
    "print(len(team_names)) \n"
   ]
  },
  {
   "cell_type": "markdown",
   "metadata": {},
   "source": [
    "### Create a testing DataFrame by using f-strings"
   ]
  },
  {
   "cell_type": "code",
   "execution_count": null,
   "metadata": {},
   "outputs": [
    {
     "name": "stdout",
     "output_type": "stream",
     "text": [
      "https://hoopshype.com/salaries/portland_trail_blazers/2020-2021/\n"
     ]
    }
   ],
   "source": [
    "url=f\"https://hoopshype.com/salaries/{team_names[0]}/{years[0]}/\"\n",
    "print(url)\n",
    "\n",
    "r = requests.get(url,timeout=2.5)\n",
    "r_html = r.text\n",
    "\n",
    "soup = BeautifulSoup(r_html, 'html.parser')\n",
    "\n",
    "salary_table = soup.find('table')\n",
    "\n",
    "\n",
    "\n",
    "length=len(salary_table.find_all(\"td\"))\n",
    "player_names=[salary_table.find_all(\"td\")[i].text.strip() for i in range(3,length,3)]\n",
    "column1=[salary_table.find_all(\"td\")[i].text.strip() for i in range(4,length,3)]\n",
    "\n",
    "df_dict={'player_names':player_names,\n",
    "        'salary ($)':column1}\n",
    "        \n",
    "salary_portland20_21=pd.DataFrame(df_dict)"
   ]
  },
  {
   "cell_type": "code",
   "execution_count": null,
   "metadata": {},
   "outputs": [
    {
     "data": {
      "text/html": [
       "<div>\n",
       "<style scoped>\n",
       "    .dataframe tbody tr th:only-of-type {\n",
       "        vertical-align: middle;\n",
       "    }\n",
       "\n",
       "    .dataframe tbody tr th {\n",
       "        vertical-align: top;\n",
       "    }\n",
       "\n",
       "    .dataframe thead th {\n",
       "        text-align: right;\n",
       "    }\n",
       "</style>\n",
       "<table border=\"1\" class=\"dataframe\">\n",
       "  <thead>\n",
       "    <tr style=\"text-align: right;\">\n",
       "      <th></th>\n",
       "      <th>player_names</th>\n",
       "      <th>salary ($)</th>\n",
       "    </tr>\n",
       "  </thead>\n",
       "  <tbody>\n",
       "    <tr>\n",
       "      <th>0</th>\n",
       "      <td>Damian Lillard</td>\n",
       "      <td>31626953</td>\n",
       "    </tr>\n",
       "    <tr>\n",
       "      <th>1</th>\n",
       "      <td>CJ McCollum</td>\n",
       "      <td>29354152</td>\n",
       "    </tr>\n",
       "    <tr>\n",
       "      <th>2</th>\n",
       "      <td>Jusuf Nurkic</td>\n",
       "      <td>12888889</td>\n",
       "    </tr>\n",
       "    <tr>\n",
       "      <th>3</th>\n",
       "      <td>Robert Covington</td>\n",
       "      <td>12138345</td>\n",
       "    </tr>\n",
       "    <tr>\n",
       "      <th>4</th>\n",
       "      <td>Norman Powell</td>\n",
       "      <td>10865952</td>\n",
       "    </tr>\n",
       "  </tbody>\n",
       "</table>\n",
       "</div>"
      ],
      "text/plain": [
       "       player_names  salary ($)\n",
       "0    Damian Lillard    31626953\n",
       "1       CJ McCollum    29354152\n",
       "2      Jusuf Nurkic    12888889\n",
       "3  Robert Covington    12138345\n",
       "4     Norman Powell    10865952"
      ]
     },
     "execution_count": 8,
     "metadata": {},
     "output_type": "execute_result"
    }
   ],
   "source": [
    "salary_portland20_21.replace({'\\$':''}, regex = True,inplace=True)\n",
    "salary_portland20_21.replace(',','', regex=True, inplace=True)\n",
    "\n",
    "for item in salary_portland20_21.columns[1:]:\n",
    "    \n",
    "    salary_portland20_21[item]=pd.to_numeric(salary_portland20_21[item])\n",
    "    \n",
    "salary_portland20_21[:5]"
   ]
  },
  {
   "cell_type": "markdown",
   "metadata": {},
   "source": [
    "### We are going to create a dictionary with keys being name of teams plus year using f-strings and their values will be their payroll as a DataFrame"
   ]
  },
  {
   "cell_type": "code",
   "execution_count": null,
   "metadata": {},
   "outputs": [],
   "source": [
    "payrolls=dict()\n",
    "for i in range(0,len(team_names)):\n",
    "    for j in range(0,2):\n",
    "        url = f\"https://hoopshype.com/salaries/{team_names[i]}/{years[j]}/\"\n",
    "        \n",
    "        salary_table = []\n",
    "        try:\n",
    "            r = requests.get(url,timeout=5)\n",
    "            r_html = r.text\n",
    "            soup = BeautifulSoup(r_html, 'html.parser')\n",
    "            salary_table = soup.find('table')\n",
    "        except:\n",
    "            print(\"Something wrong\")\n",
    "\n",
    "        length=len(salary_table.find_all(\"td\"))\n",
    "        player_names=[salary_table.find_all(\"td\")[i].text.strip() for i in range(3,length,3)]\n",
    "        column1=[salary_table.find_all(\"td\")[i].text.strip() for i in range(4,length,3)]\n",
    "        \n",
    "        #Scrape each players prosition from his personal URL\n",
    "        column2 = []\n",
    "        for k in range(0,len(player_names)):\n",
    "            if k == len(player_names)-1:\n",
    "                column2.append(\"NaN\")\n",
    "                break\n",
    "            \n",
    "            player_name_trans = player_names[k].replace(' ','-')\n",
    "            url_player = f\"https://hoopshype.com/player/{player_name_trans}/salary/\"\n",
    "            r = requests.get(url_player,timeout=5)\n",
    "            r_html = r.text\n",
    "            soup = BeautifulSoup(r_html, 'html.parser')\n",
    "            htmlText = soup.find_all(\"span\", class_=\"player-bio-text-line-value\")\n",
    "            positionString = str(htmlText[0])\n",
    "            position = positionString.find(\">\")\n",
    "            column2.append(positionString[position+1])\n",
    "            \n",
    "        salary_table = []\n",
    "        try:\n",
    "            r = requests.get(url,timeout=5)\n",
    "            r_html = r.text\n",
    "            soup = BeautifulSoup(r_html, 'html.parser')\n",
    "            salary_table = soup.find('table')\n",
    "        except:\n",
    "            print(\"Something wrong\")\n",
    "\n",
    "        df_dict={'player_names':player_names,\n",
    "                'salary ($)':column1,\n",
    "                    'position':column2}\n",
    "        \n",
    "        tempDataFrame=pd.DataFrame(df_dict)\n",
    "        \n",
    "        #switching salaries to numeric values\n",
    "        tempDataFrame.replace({'\\$':''}, regex = True,inplace=True)\n",
    "        tempDataFrame.replace(',','', regex=True, inplace=True)\n",
    "        for item in tempDataFrame.columns[1:2]:\n",
    "            tempDataFrame[item]=pd.to_numeric(tempDataFrame[item])\n",
    "            \n",
    "        \n",
    "        payrolls[f\"{team_names[i]}{years[j]}\"] = tempDataFrame"
   ]
  },
  {
   "cell_type": "markdown",
   "metadata": {},
   "source": [
    "### We will print first team's payroll of last year and last team's of first year"
   ]
  },
  {
   "cell_type": "code",
   "execution_count": null,
   "metadata": {},
   "outputs": [],
   "source": [
    "payrolls[\"portland_trail_blazers2020-2021\"]"
   ]
  },
  {
   "cell_type": "code",
   "execution_count": null,
   "metadata": {},
   "outputs": [],
   "source": [
    "payrolls[f\"denver_nuggets2013-2014\"]"
   ]
  },
  {
   "cell_type": "code",
   "execution_count": null,
   "metadata": {},
   "outputs": [],
   "source": [
    "url=f\"https://hoopshype.com/player/stephen-curry/salary\"\n",
    "\n",
    "r = requests.get(url,timeout=2.5)\n",
    "r_html = r.text\n",
    "\n",
    "soup = BeautifulSoup(r_html, 'html.parser')\n",
    "htmlText = soup.find_all(\"span\", class_=\"player-bio-text-line-value\")\n",
    "positionString = str(htmlText[0])\n",
    "\n",
    "position = positionString.find(\">\")\n",
    "\n",
    "print(positionString[position+1])"
   ]
  },
  {
   "cell_type": "code",
   "execution_count": null,
   "metadata": {},
   "outputs": [],
   "source": []
  },
  {
   "cell_type": "code",
   "execution_count": null,
   "metadata": {},
   "outputs": [],
   "source": []
  },
  {
   "cell_type": "code",
   "execution_count": null,
   "metadata": {},
   "outputs": [],
   "source": []
  },
  {
   "cell_type": "code",
   "execution_count": null,
   "metadata": {},
   "outputs": [],
   "source": []
  },
  {
   "cell_type": "code",
   "execution_count": null,
   "metadata": {},
   "outputs": [],
   "source": []
  },
  {
   "cell_type": "code",
   "execution_count": null,
   "metadata": {},
   "outputs": [],
   "source": [
    "payrolls[\"phoenix_suns2020-2021\"]\n"
   ]
  },
  {
   "cell_type": "code",
   "execution_count": null,
   "metadata": {},
   "outputs": [],
   "source": []
  }
 ],
 "metadata": {
  "kernelspec": {
   "display_name": "Python 3",
   "language": "python",
   "name": "python3"
  },
  "language_info": {
   "codemirror_mode": {
    "name": "ipython",
    "version": 3
   },
   "file_extension": ".py",
   "mimetype": "text/x-python",
   "name": "python",
   "nbconvert_exporter": "python",
   "pygments_lexer": "ipython3",
   "version": "3.7.1"
  }
 },
 "nbformat": 4,
 "nbformat_minor": 2
}
