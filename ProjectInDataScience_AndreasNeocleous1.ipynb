{
 "cells": [
  {
   "cell_type": "markdown",
   "metadata": {},
   "source": [
    "# <b> <font color='red'>  Project in Data Science </font> </b>"
   ]
  },
  {
   "cell_type": "markdown",
   "metadata": {},
   "source": [
    "## Analysing NBA historical data to discover patterns that should be adopted by franchises to succeed\n",
    "\n",
    "#### <b>Andreas Neocleous\n",
    "a.neocleous12@hotmail.com\n",
    "</b>"
   ]
  },
  {
   "cell_type": "code",
   "execution_count": 75,
   "metadata": {},
   "outputs": [],
   "source": [
    "import requests\n",
    "from bs4 import BeautifulSoup\n",
    "import pandas as pd\n",
    "import matplotlib.pyplot as plt\n",
    "import numpy as np\n",
    "import re"
   ]
  },
  {
   "cell_type": "markdown",
   "metadata": {},
   "source": [
    "### Scraping as a test from hoopshype site"
   ]
  },
  {
   "cell_type": "code",
   "execution_count": 76,
   "metadata": {},
   "outputs": [],
   "source": [
    "url=\"https://hoopshype.com/salaries/players/\"\n",
    "\n",
    "r = requests.get(url,timeout=2.5)\n",
    "r_html = r.text\n",
    "\n",
    "soup = BeautifulSoup(r_html, 'html.parser')\n",
    "\n",
    "salary_table = soup.find('table')"
   ]
  },
  {
   "cell_type": "code",
   "execution_count": 77,
   "metadata": {},
   "outputs": [],
   "source": [
    "length=len(salary_table.find_all(\"td\"))\n",
    "\n",
    "player_names=[salary_table.find_all(\"td\")[i].text.strip() for i in range(9,length,8)]\n",
    "\n",
    "column1=[salary_table.find_all(\"td\")[i].text.strip() for i in range(10,length,8)]\n",
    "column2=[salary_table.find_all(\"td\")[i].text.strip() for i in range(11,length,8)]\n",
    "column3=[salary_table.find_all(\"td\")[i].text.strip() for i in range(12,length,8)]\n",
    "column4=[salary_table.find_all(\"td\")[i].text.strip() for i in range(13,length,8)]\n",
    "column5=[salary_table.find_all(\"td\")[i].text.strip() for i in range(14,length,8)]\n",
    "column6=[salary_table.find_all(\"td\")[i].text.strip() for i in range(15,length,8)]"
   ]
  },
  {
   "cell_type": "code",
   "execution_count": 78,
   "metadata": {},
   "outputs": [
    {
     "data": {
      "text/html": [
       "<div>\n",
       "<style scoped>\n",
       "    .dataframe tbody tr th:only-of-type {\n",
       "        vertical-align: middle;\n",
       "    }\n",
       "\n",
       "    .dataframe tbody tr th {\n",
       "        vertical-align: top;\n",
       "    }\n",
       "\n",
       "    .dataframe thead th {\n",
       "        text-align: right;\n",
       "    }\n",
       "</style>\n",
       "<table border=\"1\" class=\"dataframe\">\n",
       "  <thead>\n",
       "    <tr style=\"text-align: right;\">\n",
       "      <th></th>\n",
       "      <th>player_names</th>\n",
       "      <th>salary ($)</th>\n",
       "    </tr>\n",
       "  </thead>\n",
       "  <tbody>\n",
       "    <tr>\n",
       "      <th>0</th>\n",
       "      <td>Stephen Curry</td>\n",
       "      <td>$45,780,966</td>\n",
       "    </tr>\n",
       "    <tr>\n",
       "      <th>1</th>\n",
       "      <td>John Wall</td>\n",
       "      <td>$44,310,840</td>\n",
       "    </tr>\n",
       "    <tr>\n",
       "      <th>2</th>\n",
       "      <td>James Harden</td>\n",
       "      <td>$44,310,840</td>\n",
       "    </tr>\n",
       "    <tr>\n",
       "      <th>3</th>\n",
       "      <td>Russell Westbrook</td>\n",
       "      <td>$44,211,146</td>\n",
       "    </tr>\n",
       "    <tr>\n",
       "      <th>4</th>\n",
       "      <td>Kevin Durant</td>\n",
       "      <td>$42,018,900</td>\n",
       "    </tr>\n",
       "  </tbody>\n",
       "</table>\n",
       "</div>"
      ],
      "text/plain": [
       "        player_names   salary ($)\n",
       "0      Stephen Curry  $45,780,966\n",
       "1          John Wall  $44,310,840\n",
       "2       James Harden  $44,310,840\n",
       "3  Russell Westbrook  $44,211,146\n",
       "4       Kevin Durant  $42,018,900"
      ]
     },
     "execution_count": 78,
     "metadata": {},
     "output_type": "execute_result"
    }
   ],
   "source": [
    "df_dict={'player_names':player_names,\n",
    "        'salary ($)':column1}\n",
    "        \n",
    "salary_df=pd.DataFrame(df_dict)\n",
    "salary_df[:5]"
   ]
  },
  {
   "cell_type": "markdown",
   "metadata": {},
   "source": [
    "### Transform salaries to numeric values"
   ]
  },
  {
   "cell_type": "code",
   "execution_count": 5,
   "metadata": {},
   "outputs": [
    {
     "data": {
      "text/html": [
       "<div>\n",
       "<style scoped>\n",
       "    .dataframe tbody tr th:only-of-type {\n",
       "        vertical-align: middle;\n",
       "    }\n",
       "\n",
       "    .dataframe tbody tr th {\n",
       "        vertical-align: top;\n",
       "    }\n",
       "\n",
       "    .dataframe thead th {\n",
       "        text-align: right;\n",
       "    }\n",
       "</style>\n",
       "<table border=\"1\" class=\"dataframe\">\n",
       "  <thead>\n",
       "    <tr style=\"text-align: right;\">\n",
       "      <th></th>\n",
       "      <th>player_names</th>\n",
       "      <th>salary ($)</th>\n",
       "    </tr>\n",
       "  </thead>\n",
       "  <tbody>\n",
       "    <tr>\n",
       "      <th>0</th>\n",
       "      <td>Stephen Curry</td>\n",
       "      <td>45780966</td>\n",
       "    </tr>\n",
       "    <tr>\n",
       "      <th>1</th>\n",
       "      <td>John Wall</td>\n",
       "      <td>44310840</td>\n",
       "    </tr>\n",
       "    <tr>\n",
       "      <th>2</th>\n",
       "      <td>James Harden</td>\n",
       "      <td>44310840</td>\n",
       "    </tr>\n",
       "    <tr>\n",
       "      <th>3</th>\n",
       "      <td>Russell Westbrook</td>\n",
       "      <td>44211146</td>\n",
       "    </tr>\n",
       "    <tr>\n",
       "      <th>4</th>\n",
       "      <td>Kevin Durant</td>\n",
       "      <td>42018900</td>\n",
       "    </tr>\n",
       "  </tbody>\n",
       "</table>\n",
       "</div>"
      ],
      "text/plain": [
       "        player_names  salary ($)\n",
       "0      Stephen Curry    45780966\n",
       "1          John Wall    44310840\n",
       "2       James Harden    44310840\n",
       "3  Russell Westbrook    44211146\n",
       "4       Kevin Durant    42018900"
      ]
     },
     "execution_count": 5,
     "metadata": {},
     "output_type": "execute_result"
    }
   ],
   "source": [
    "salary_df.replace({'\\$':''}, regex = True,inplace=True)\n",
    "salary_df.replace(',','', regex=True, inplace=True)\n",
    "\n",
    "for item in salary_df.columns[1:]:\n",
    "    \n",
    "    salary_df[item]=pd.to_numeric(salary_df[item])\n",
    "    \n",
    "salary_df[:5]"
   ]
  },
  {
   "cell_type": "markdown",
   "metadata": {},
   "source": [
    "### Creating arrays of years and team names in order to feed them as f string to for loops which is going to create for us all the DataFrames we need"
   ]
  },
  {
   "cell_type": "code",
   "execution_count": 79,
   "metadata": {},
   "outputs": [
    {
     "name": "stdout",
     "output_type": "stream",
     "text": [
      "['2020-2021', '2019-2020', '2018-2019', '2017-2018', '2016-2017', '2015-2016', '2014-2015', '2013-2014', '2012-2013', '2011-2012', '2010-2011', '2009-2010', '2008-2009', '2007-2008', '2006-2007', '2005-2006', '2004-2005', '2003-2004', '2002-2003', '2001-2002']\n",
      "['portland_trail_blazers', 'oklahoma_city_thunder', 'los_angeles_clippers', 'cleveland_cavaliers', 'philadelphia_76ers', 'miami_heat', 'golden_state_warriors', 'denver_nuggets', 'houston_rockets', 'orlando_magic', 'los_angeles_lakers', 'milwaukee_bucks', 'toronto_raptors', 'washington_wizards', 'dallas_mavericks', 'san_antonio_spurs', 'utah_jazz', 'brooklyn_nets', 'new_orleans_pelicans', 'boston_celtics', 'minnesota_timberwolves', 'sacramento_kings', 'indiana_pacers', 'chicago_bulls', 'atlanta_hawks', 'detroit_pistons', 'new_york_knicks', 'phoenix_suns', 'memphis_grizzlies', 'charlotte_hornets']\n",
      "20\n",
      "30\n"
     ]
    }
   ],
   "source": [
    "years=[]\n",
    "for i in range(2020,2000,-1):\n",
    "    years.append(f\"{i}-{i+1}\")\n",
    "\n",
    "team_names = [\"portland_trail_blazers\",\"oklahoma_city_thunder\",\"los_angeles_clippers\",\"cleveland_cavaliers\",\"philadelphia_76ers\",\n",
    "              \"miami_heat\",\"golden_state_warriors\",\"denver_nuggets\",\"houston_rockets\",\"orlando_magic\",\n",
    "              \"los_angeles_lakers\",\"milwaukee_bucks\",\"toronto_raptors\",\"washington_wizards\",\"dallas_mavericks\",\n",
    "              \"san_antonio_spurs\",\"utah_jazz\",\"brooklyn_nets\",\"new_orleans_pelicans\",\"boston_celtics\",\n",
    "              \"minnesota_timberwolves\",\"sacramento_kings\",\"indiana_pacers\",\"chicago_bulls\",\"atlanta_hawks\",\n",
    "              \"detroit_pistons\",\"new_york_knicks\",\"phoenix_suns\",\"memphis_grizzlies\",\"charlotte_hornets\"]            \n",
    "              \n",
    "print(years)\n",
    "print(team_names)\n",
    "print(len(years))\n",
    "print(len(team_names)) \n"
   ]
  },
  {
   "cell_type": "markdown",
   "metadata": {},
   "source": [
    "### Create a testing DataFrame by using f-strings"
   ]
  },
  {
   "cell_type": "code",
   "execution_count": 7,
   "metadata": {},
   "outputs": [
    {
     "name": "stdout",
     "output_type": "stream",
     "text": [
      "https://hoopshype.com/salaries/portland_trail_blazers/2020-2021/\n"
     ]
    }
   ],
   "source": [
    "url=f\"https://hoopshype.com/salaries/{team_names[0]}/{years[0]}/\"\n",
    "print(url)\n",
    "\n",
    "r = requests.get(url,timeout=2.5)\n",
    "r_html = r.text\n",
    "\n",
    "soup = BeautifulSoup(r_html, 'html.parser')\n",
    "\n",
    "salary_table = soup.find('table')\n",
    "\n",
    "\n",
    "\n",
    "length=len(salary_table.find_all(\"td\"))\n",
    "player_names=[salary_table.find_all(\"td\")[i].text.strip() for i in range(3,length,3)]\n",
    "column1=[salary_table.find_all(\"td\")[i].text.strip() for i in range(4,length,3)]\n",
    "\n",
    "df_dict={'player_names':player_names,\n",
    "        'salary ($)':column1}\n",
    "        \n",
    "salary_portland20_21=pd.DataFrame(df_dict)"
   ]
  },
  {
   "cell_type": "code",
   "execution_count": 8,
   "metadata": {},
   "outputs": [
    {
     "data": {
      "text/html": [
       "<div>\n",
       "<style scoped>\n",
       "    .dataframe tbody tr th:only-of-type {\n",
       "        vertical-align: middle;\n",
       "    }\n",
       "\n",
       "    .dataframe tbody tr th {\n",
       "        vertical-align: top;\n",
       "    }\n",
       "\n",
       "    .dataframe thead th {\n",
       "        text-align: right;\n",
       "    }\n",
       "</style>\n",
       "<table border=\"1\" class=\"dataframe\">\n",
       "  <thead>\n",
       "    <tr style=\"text-align: right;\">\n",
       "      <th></th>\n",
       "      <th>player_names</th>\n",
       "      <th>salary ($)</th>\n",
       "    </tr>\n",
       "  </thead>\n",
       "  <tbody>\n",
       "    <tr>\n",
       "      <th>0</th>\n",
       "      <td>Damian Lillard</td>\n",
       "      <td>31626953</td>\n",
       "    </tr>\n",
       "    <tr>\n",
       "      <th>1</th>\n",
       "      <td>CJ McCollum</td>\n",
       "      <td>29354152</td>\n",
       "    </tr>\n",
       "    <tr>\n",
       "      <th>2</th>\n",
       "      <td>Jusuf Nurkic</td>\n",
       "      <td>12888889</td>\n",
       "    </tr>\n",
       "    <tr>\n",
       "      <th>3</th>\n",
       "      <td>Robert Covington</td>\n",
       "      <td>12138345</td>\n",
       "    </tr>\n",
       "    <tr>\n",
       "      <th>4</th>\n",
       "      <td>Norman Powell</td>\n",
       "      <td>10865952</td>\n",
       "    </tr>\n",
       "  </tbody>\n",
       "</table>\n",
       "</div>"
      ],
      "text/plain": [
       "       player_names  salary ($)\n",
       "0    Damian Lillard    31626953\n",
       "1       CJ McCollum    29354152\n",
       "2      Jusuf Nurkic    12888889\n",
       "3  Robert Covington    12138345\n",
       "4     Norman Powell    10865952"
      ]
     },
     "execution_count": 8,
     "metadata": {},
     "output_type": "execute_result"
    }
   ],
   "source": [
    "salary_portland20_21.replace({'\\$':''}, regex = True,inplace=True)\n",
    "salary_portland20_21.replace(',','', regex=True, inplace=True)\n",
    "\n",
    "for item in salary_portland20_21.columns[1:]:\n",
    "    \n",
    "    salary_portland20_21[item]=pd.to_numeric(salary_portland20_21[item])\n",
    "    \n",
    "salary_portland20_21[:5]"
   ]
  },
  {
   "cell_type": "markdown",
   "metadata": {},
   "source": [
    "### We are going to create a dictionary with keys being name of teams plus year using f-strings and their values will be their payroll as a DataFrame"
   ]
  },
  {
   "cell_type": "code",
   "execution_count": 47,
   "metadata": {},
   "outputs": [
    {
     "ename": "IndexError",
     "evalue": "list index out of range",
     "output_type": "error",
     "traceback": [
      "\u001b[1;31m---------------------------------------------------------------------------\u001b[0m",
      "\u001b[1;31mIndexError\u001b[0m                                Traceback (most recent call last)",
      "\u001b[1;32m<ipython-input-47-651a6c6149ee>\u001b[0m in \u001b[0;36m<module>\u001b[1;34m\u001b[0m\n\u001b[0;32m     30\u001b[0m             \u001b[0msoup\u001b[0m \u001b[1;33m=\u001b[0m \u001b[0mBeautifulSoup\u001b[0m\u001b[1;33m(\u001b[0m\u001b[0mr_html\u001b[0m\u001b[1;33m,\u001b[0m \u001b[1;34m'html.parser'\u001b[0m\u001b[1;33m)\u001b[0m\u001b[1;33m\u001b[0m\u001b[1;33m\u001b[0m\u001b[0m\n\u001b[0;32m     31\u001b[0m             \u001b[0mhtmlText\u001b[0m \u001b[1;33m=\u001b[0m \u001b[0msoup\u001b[0m\u001b[1;33m.\u001b[0m\u001b[0mfind_all\u001b[0m\u001b[1;33m(\u001b[0m\u001b[1;34m\"span\"\u001b[0m\u001b[1;33m,\u001b[0m \u001b[0mclass_\u001b[0m\u001b[1;33m=\u001b[0m\u001b[1;34m\"player-bio-text-line-value\"\u001b[0m\u001b[1;33m)\u001b[0m\u001b[1;33m\u001b[0m\u001b[1;33m\u001b[0m\u001b[0m\n\u001b[1;32m---> 32\u001b[1;33m             \u001b[0mpositionString\u001b[0m \u001b[1;33m=\u001b[0m \u001b[0mstr\u001b[0m\u001b[1;33m(\u001b[0m\u001b[0mhtmlText\u001b[0m\u001b[1;33m[\u001b[0m\u001b[1;36m0\u001b[0m\u001b[1;33m]\u001b[0m\u001b[1;33m)\u001b[0m\u001b[1;33m\u001b[0m\u001b[1;33m\u001b[0m\u001b[0m\n\u001b[0m\u001b[0;32m     33\u001b[0m             \u001b[1;31m#print(positionString)\u001b[0m\u001b[1;33m\u001b[0m\u001b[1;33m\u001b[0m\u001b[1;33m\u001b[0m\u001b[0m\n\u001b[0;32m     34\u001b[0m             \u001b[0mposition\u001b[0m \u001b[1;33m=\u001b[0m \u001b[0mpositionString\u001b[0m\u001b[1;33m.\u001b[0m\u001b[0mfind\u001b[0m\u001b[1;33m(\u001b[0m\u001b[1;34m\">\"\u001b[0m\u001b[1;33m)\u001b[0m\u001b[1;33m\u001b[0m\u001b[1;33m\u001b[0m\u001b[0m\n",
      "\u001b[1;31mIndexError\u001b[0m: list index out of range"
     ]
    }
   ],
   "source": [
    "payrolls=dict()\n",
    "for i in range(0,6):\n",
    "    for j in range(0,5):\n",
    "        url = f\"https://hoopshype.com/salaries/{team_names[i]}/{years[j]}/\"\n",
    "        \n",
    "        salary_table = []\n",
    "        try:\n",
    "            r = requests.get(url,timeout=20)\n",
    "            r_html = r.text\n",
    "            soup = BeautifulSoup(r_html, 'html.parser')\n",
    "            salary_table = soup.find('table')\n",
    "        except:\n",
    "            print(\"Something wrong\")\n",
    "\n",
    "        length=len(salary_table.find_all(\"td\"))\n",
    "        player_names=[salary_table.find_all(\"td\")[i].text.strip() for i in range(3,length,3)]\n",
    "        column1=[salary_table.find_all(\"td\")[i].text.strip() for i in range(4,length,3)]\n",
    "        \n",
    "        #Scrape each players prosition from his personal URL\n",
    "        column2 = []\n",
    "        for k in range(0,len(player_names)):\n",
    "            if k == len(player_names)-1:\n",
    "                column2.append(\"NaN\")\n",
    "                break\n",
    "            \n",
    "            player_name_trans = player_names[k].replace(' ','-')\n",
    "            url_player = f\"https://hoopshype.com/player/{player_name_trans}/salary/\"\n",
    "            r = requests.get(url_player,timeout=5)\n",
    "            r_html = r.text\n",
    "            soup = BeautifulSoup(r_html, 'html.parser')\n",
    "            htmlText = soup.find_all(\"span\", class_=\"player-bio-text-line-value\")\n",
    "            positionString = str(htmlText[0])\n",
    "            #print(positionString)\n",
    "            position = positionString.find(\">\")\n",
    "            column2.append(positionString[position+1])\n",
    "            \n",
    "        salary_table = []\n",
    "        try:\n",
    "            r = requests.get(url,timeout=20)\n",
    "            r_html = r.text\n",
    "            soup = BeautifulSoup(r_html, 'html.parser')\n",
    "            salary_table = soup.find('table')\n",
    "        except:\n",
    "            print(\"Something wrong\")\n",
    "\n",
    "        df_dict={'player_names':player_names,\n",
    "                'salary ($)':column1,\n",
    "                    'position':column2}\n",
    "        \n",
    "        tempDataFrame=pd.DataFrame(df_dict)\n",
    "        \n",
    "        #switching salaries to numeric values\n",
    "        tempDataFrame.replace({'\\$':''}, regex = True,inplace=True)\n",
    "        tempDataFrame.replace(',','', regex=True, inplace=True)\n",
    "        for item in tempDataFrame.columns[1:2]:\n",
    "            tempDataFrame[item]=pd.to_numeric(tempDataFrame[item])\n",
    "            \n",
    "        \n",
    "        payrolls[f\"{team_names[i]}{years[j]}\"] = tempDataFrame"
   ]
  },
  {
   "cell_type": "markdown",
   "metadata": {},
   "source": [
    "### We will print first team's payroll of last year and last team's of first year"
   ]
  },
  {
   "cell_type": "code",
   "execution_count": null,
   "metadata": {},
   "outputs": [],
   "source": [
    "payrolls[\"portland_trail_blazers2020-2021\"]"
   ]
  },
  {
   "cell_type": "code",
   "execution_count": null,
   "metadata": {},
   "outputs": [],
   "source": [
    "payrolls[f\"denver_nuggets2013-2014\"]"
   ]
  },
  {
   "cell_type": "code",
   "execution_count": null,
   "metadata": {},
   "outputs": [],
   "source": [
    "url=f\"https://hoopshype.com/player/stephen-curry/salary\"\n",
    "\n",
    "r = requests.get(url,timeout=2.5)\n",
    "r_html = r.text\n",
    "\n",
    "soup = BeautifulSoup(r_html, 'html.parser')\n",
    "htmlText = soup.find_all(\"span\", class_=\"player-bio-text-line-value\")\n",
    "positionString = str(htmlText[0])\n",
    "\n",
    "position = positionString.find(\">\")\n",
    "\n",
    "print(positionString[position+1])"
   ]
  },
  {
   "cell_type": "code",
   "execution_count": 14,
   "metadata": {},
   "outputs": [
    {
     "data": {
      "text/plain": [
       "30"
      ]
     },
     "execution_count": 14,
     "metadata": {},
     "output_type": "execute_result"
    }
   ],
   "source": [
    "len(team_names)"
   ]
  },
  {
   "cell_type": "code",
   "execution_count": 15,
   "metadata": {},
   "outputs": [
    {
     "ename": "IndexError",
     "evalue": "list index out of range",
     "output_type": "error",
     "traceback": [
      "\u001b[1;31m---------------------------------------------------------------------------\u001b[0m",
      "\u001b[1;31mIndexError\u001b[0m                                Traceback (most recent call last)",
      "\u001b[1;32m<ipython-input-15-f3260f7b0272>\u001b[0m in \u001b[0;36m<module>\u001b[1;34m\u001b[0m\n\u001b[1;32m----> 1\u001b[1;33m \u001b[0mteam_names\u001b[0m\u001b[1;33m[\u001b[0m\u001b[0mlen\u001b[0m\u001b[1;33m(\u001b[0m\u001b[0mteam_names\u001b[0m\u001b[1;33m)\u001b[0m\u001b[1;33m]\u001b[0m\u001b[1;33m\u001b[0m\u001b[1;33m\u001b[0m\u001b[0m\n\u001b[0m",
      "\u001b[1;31mIndexError\u001b[0m: list index out of range"
     ]
    }
   ],
   "source": [
    "team_names[len(team_names)]"
   ]
  },
  {
   "cell_type": "code",
   "execution_count": 45,
   "metadata": {},
   "outputs": [
    {
     "name": "stdout",
     "output_type": "stream",
     "text": [
      "               player_names  salary ($) position\n",
      "0            Damian Lillard    31626953        G\n",
      "1               CJ McCollum    29354152        G\n",
      "2              Jusuf Nurkic    12888889        C\n",
      "3          Robert Covington    12138345        F\n",
      "4             Norman Powell    10865952        G\n",
      "5             Derrick Jones     9258000        F\n",
      "6              Zach Collins     5406255        C\n",
      "7               Enes Kanter     5005350        -\n",
      "8          Andrew Nicholson     2844429        -\n",
      "9           Carmelo Anthony     2564753        F\n",
      "10          Anfernee Simons     2252040        G\n",
      "11            Nassir Little     2210640        F\n",
      "12         Anderson Varejao     1913345        -\n",
      "13              Harry Giles     1620564        -\n",
      "14                CJ Elleby      898310        F\n",
      "15  Rondae Hollis-Jefferson      502957        -\n",
      "16           Keljin Blevins      449115        G\n",
      "17                  TJ Leaf      104598        -\n",
      "18                   Totals   131904647      NaN\n",
      "        player_names  salary ($) position\n",
      "0     Damian Lillard    29802321        G\n",
      "1        CJ McCollum    27556959        G\n",
      "2   Hassan Whiteside    27093018        C\n",
      "3       Trevor Ariza    12200000        F\n",
      "4       Jusuf Nurkic    12000000        C\n",
      "5        Rodney Hood     5718000        F\n",
      "6       Zach Collins     4240200        C\n",
      "7    Carmelo Anthony     2159029        F\n",
      "8    Anfernee Simons     2149560        G\n",
      "9      Nassir Little     2105520        F\n",
      "10    Caleb Swanigan     2033160        -\n",
      "11     Mario Hezonja     1737145        -\n",
      "12    Wenyen Gabriel     1445697        F\n",
      "13     Gary Trent Jr     1416852        G\n",
      "14      Jaylen Adams      163356        -\n",
      "15       Moses Brown       79568        C\n",
      "16      Jaylen Hoard       79568        F\n",
      "17            Totals   131979953      NaN\n",
      "        player_names  salary ($) position\n",
      "0     Damian Lillard    27977689        G\n",
      "1        CJ McCollum    25759766        G\n",
      "2        Evan Turner    17868853        -\n",
      "3       Jusuf Nurkic    11111111        C\n",
      "4       Moe Harkless    10837079        F\n",
      "5     Meyers Leonard    10595506        -\n",
      "6    Al-Farouq Aminu     6957105        -\n",
      "7       Zach Collins     3628920        C\n",
      "8        Rodney Hood     3472887        F\n",
      "9   Andrew Nicholson     2844429        -\n",
      "10        Seth Curry     2795000        G\n",
      "11   Anfernee Simons     1837800        G\n",
      "12       Jake Layman     1544951        F\n",
      "13   Skal Labissiere     1544951        -\n",
      "14     Gary Trent Jr      838464        G\n",
      "15       Enes Kanter      642089        -\n",
      "16            Totals   130256600      NaN\n",
      "               player_names  salary ($) position\n",
      "0                Al Horford    27500000        C\n",
      "1            Meyers Leonard     9400000        -\n",
      "2             Darius Miller     7000000        -\n",
      "3            Justin Jackson     5029650        -\n",
      "4                   TJ Leaf     4326825        -\n",
      "5   Shai Gilgeous-Alexander     4141320        G\n",
      "6              Gabriel Deck     3870370        -\n",
      "7              Tony Bradley     3542060        F\n",
      "8             Austin Rivers     3500000        G\n",
      "9        Aleksej Pokusevski     2964840        F\n",
      "10            Darius Bazley     2399160        F\n",
      "11                Ty Jerome     2303040        G\n",
      "12             Mike Muscala     2283034        F\n",
      "13         Kenrich Williams     2000000        G\n",
      "14             Theo Maledon     2000000        G\n",
      "15    Sviatoslav Mykhailiuk     1663861        G\n",
      "16                Josh Gray     1620564        -\n",
      "17            Luguentz Dort     1517981        G\n",
      "18              Isaiah Roby     1517981        F\n",
      "19        Admiral Schofield     1517981        F\n",
      "20           Zylan Cheatham     1445697        F\n",
      "21              Moses Brown     1250000        C\n",
      "22             Kyle Singler      999200        -\n",
      "23        Patrick Patterson      737067        -\n",
      "24                Josh Hall      449115        -\n",
      "25            Frank Jackson      250000        G\n",
      "26            Charlie Brown      217844        G\n",
      "27          Justin Robinson      198040        G\n",
      "28             Jaylen Hoard      129209        F\n",
      "29                   Totals    95774839      NaN\n",
      "               player_names  salary ($) position\n",
      "0                Chris Paul    38506482        G\n",
      "1              Steven Adams    25842697        C\n",
      "2          Danilo Gallinari    22615559        F\n",
      "3          Dennis Schroeder    15500000        G\n",
      "4            Andre Roberson    10740740        -\n",
      "5   Shai Gilgeous-Alexander     3952920        G\n",
      "6         Terrance Ferguson     2475840        -\n",
      "7             Darius Bazley     2284800        F\n",
      "8              Mike Muscala     2028594        F\n",
      "9              Nerlens Noel     1882867        F\n",
      "10              Abdel Nader     1618520        -\n",
      "11              Isaiah Roby     1500000        F\n",
      "12           Hamidou Diallo     1416852        G\n",
      "13            Deonte Burton     1416852        -\n",
      "14            Luguentz Dort      155647        G\n",
      "15             Kevin Hervey       79568        -\n",
      "16                   Totals   132017938      NaN\n",
      "         player_names  salary ($) position\n",
      "0   Russell Westbrook    35665000        G\n",
      "1         Paul George    30560700        F\n",
      "2        Steven Adams    24157304        C\n",
      "3    Dennis Schroeder    15500000        G\n",
      "4      Andre Roberson    10000000        -\n",
      "5        Jerami Grant     8333333        F\n",
      "6   Patrick Patterson     5451600        -\n",
      "7        Alex Abrines     3667645        -\n",
      "8      Raymond Felton     2393887        -\n",
      "9   Terrance Ferguson     2118840        -\n",
      "10       Nerlens Noel     1757429        F\n",
      "11       Kyle Singler     1665333        -\n",
      "12        Abdel Nader     1378242        -\n",
      "13     Hamidou Diallo      838464        G\n",
      "14    Markieff Morris      573294        F\n",
      "15      Deonte Burton      500000        -\n",
      "16        Tyler Davis       77250        -\n",
      "17     Donte Grantham       77250        -\n",
      "18        Jawun Evans       77250        -\n",
      "19      Scotty Hopson       76236        F\n",
      "20    Richard Solomon       47370        -\n",
      "21             Totals   144916427      NaN\n",
      "         player_names  salary ($) position\n",
      "0         Paul George    35450412        F\n",
      "1       Kawhi Leonard    34379100        F\n",
      "2       Marcus Morris    14883721        F\n",
      "3    Patrick Beverley    13333333        G\n",
      "4         Serge Ibaka     9258000        C\n",
      "5         Rajon Rondo     7500000        G\n",
      "6         Ivica Zubac     7000000        C\n",
      "7        Luke Kennard     5273826        F\n",
      "8   Patrick Patterson     3077704        -\n",
      "9       Nicolas Batum     2564753        F\n",
      "10     Reggie Jackson     2331593        G\n",
      "11       Terance Mann     1517981        G\n",
      "12       Daniel Oturu      898310        -\n",
      "13   DeMarcus Cousins      720239        C\n",
      "14        Amir Coffey      578842        F\n",
      "15         Jay Scrubb      449115        G\n",
      "16       Yogi Ferrell      444149        -\n",
      "17        Malik Fitts       61528        F\n",
      "18             Totals   139722606      NaN\n",
      "         player_names  salary ($) position\n",
      "0         Paul George    33005556        F\n",
      "1       Kawhi Leonard    32742000        F\n",
      "2       Marcus Morris    15000000        F\n",
      "3    Patrick Beverley    12345680        G\n",
      "4      Louis Williams     8000000        G\n",
      "5         Ivica Zubac     6481482        C\n",
      "6    Montrezl Harrell     6000000        C\n",
      "7     Rodney McGruder     4807693        G\n",
      "8      JaMychal Green     4767000        F\n",
      "9   Patrick Patterson     2331593        -\n",
      "10      Landry Shamet     1995120        G\n",
      "11  Mfiondu Kabengele     1977000        -\n",
      "12       Terance Mann     1000000        G\n",
      "13     Reggie Jackson      512721        G\n",
      "14        Joakim Noah      381360        -\n",
      "15   Johnathan Motley       79568        -\n",
      "16        Amir Coffey       79568        F\n",
      "17             Totals   131506341      NaN\n",
      "               player_names  salary ($) position\n",
      "0          Danilo Gallinari    21587579        F\n",
      "1             Marcin Gortat    13565218        -\n",
      "2           Wilson Chandler    12800562        -\n",
      "3            JaMychal Green     8066667        F\n",
      "4            Louis Williams     8000000        G\n",
      "5            Garrett Temple     8000000        G\n",
      "6            Milos Teodosic     6300000        -\n",
      "7          Montrezl Harrell     6000000        C\n",
      "8             Alexis Ajinca     5285394        -\n",
      "9          Patrick Beverley     5027028        G\n",
      "10         Luc Mbah a Moute     4320500        -\n",
      "11          Michael Beasley     3500000        -\n",
      "12  Shai Gilgeous-Alexander     3375360        G\n",
      "13          Jerome Robinson     3050160        -\n",
      "14            Landry Shamet     1705920        G\n",
      "15              Ivica Zubac     1544951        C\n",
      "16          Rodney McGruder     1544951        G\n",
      "17              Jawun Evans     1378242        -\n",
      "18      Sindarius Thornwell     1378242        -\n",
      "19           Tyrone Wallace     1349383        G\n",
      "20             Justin Bibbs       92159        -\n",
      "21            Angel Delgado       77250        -\n",
      "22         Johnathan Motley       77250        -\n",
      "23                   Totals   118026816      NaN\n"
     ]
    }
   ],
   "source": [
    "for i in range(0,3):\n",
    "    for j in range(0,3):\n",
    "        print(payrolls[f\"{team_names[i]}{years[j]}\"])"
   ]
  },
  {
   "cell_type": "code",
   "execution_count": null,
   "metadata": {},
   "outputs": [],
   "source": []
  },
  {
   "cell_type": "code",
   "execution_count": null,
   "metadata": {},
   "outputs": [],
   "source": []
  },
  {
   "cell_type": "code",
   "execution_count": 74,
   "metadata": {},
   "outputs": [
    {
     "name": "stdout",
     "output_type": "stream",
     "text": [
      "['2020-2021', '2019-2020', '2018-2019', '2017-2018', '2016-2017', '2015-2016', '2014-2015', '2013-2014', '2012-2013', '2011-2012', '2010-2011', '2009-2010', '2008-2009', '2007-2008', '2006-2007', '2005-2006', '2004-2005', '2003-2004', '2002-2003', '2001-2002']\n",
      "['portland_trail_blazers', 'oklahoma_city_thunder', 'los_angeles_clippers', 'cleveland_cavaliers', 'philadelphia_76ers', 'miami_heat', 'golden_state_warriors', 'denver_nuggets', 'houston_rockets', 'orlando_magic', 'los_angeles_lakers', 'milwaukee_bucks', 'toronto_raptors', 'washington_wizards', 'dallas_mavericks', 'san_antonio_spurs', 'utah_jazz', 'brooklyn_nets', 'new_orleans_pelicans', 'boston_celtics', 'minnesota_timberwolves', 'sacramento_kings', 'indiana_pacers', 'chicago_bulls', 'atlanta_hawks', 'detroit_pistons', 'new_york_knicks', 'phoenix_suns', 'memphis_grizzlies', 'charlotte_hornets']\n",
      "20\n",
      "30\n"
     ]
    }
   ],
   "source": [
    "years=[]\n",
    "for i in range(2020,2000,-1):\n",
    "    years.append(f\"{i}-{i+1}\")\n",
    "\n",
    "team_names = [\"portland_trail_blazers\",\"oklahoma_city_thunder\",\"los_angeles_clippers\",\"cleveland_cavaliers\",\"philadelphia_76ers\",\n",
    "              \"miami_heat\",\"golden_state_warriors\",\"denver_nuggets\",\"houston_rockets\",\"orlando_magic\",\n",
    "              \"los_angeles_lakers\",\"milwaukee_bucks\",\"toronto_raptors\",\"washington_wizards\",\"dallas_mavericks\",\n",
    "              \"san_antonio_spurs\",\"utah_jazz\",\"brooklyn_nets\",\"new_orleans_pelicans\",\"boston_celtics\",\n",
    "              \"minnesota_timberwolves\",\"sacramento_kings\",\"indiana_pacers\",\"chicago_bulls\",\"atlanta_hawks\",\n",
    "              \"detroit_pistons\",\"new_york_knicks\",\"phoenix_suns\",\"memphis_grizzlies\",\"charlotte_hornets\"]            \n",
    "              \n",
    "print(years)\n",
    "print(team_names)\n",
    "print(len(years))\n",
    "print(len(team_names)) \n"
   ]
  },
  {
   "cell_type": "code",
   "execution_count": 73,
   "metadata": {},
   "outputs": [
    {
     "name": "stdout",
     "output_type": "stream",
     "text": [
      "['miami_heat2020-2021', 'cleveland_cavaliers2017-2018', 'philadelphia_76ers2017-2018', 'philadelphia_76ers2015-2016', 'philadelphia_76ers2014-2015', 'houston_rockets2018-2019', 'houston_rockets2017-2018', 'brooklyn_nets2018-2019', 'brooklyn_nets2017-2018', 'new_orleans_pelicans2017-2018', 'boston_celtics2018-2019', 'chicago_bulls2018-2019', 'detroit_pistons2018-2019', 'memphis_grizzlies2020-2021', 'memphis_grizzlies2019-2020', 'memphis_grizzlies2018-2019', 'memphis_grizzlies2017-2018', 'charlotte_hornets2020-2021', 'charlotte_hornets2019-2020', 'charlotte_hornets2018-2019', 'charlotte_hornets2017-2018', 'miami_heat2016-2017', 'golden_state_warriors2016-2017', 'houston_rockets2016-2017', 'los_angeles_lakers2016-2017', 'chicago_bulls2016-2017', 'atlanta_hawks2016-2017', 'golden_state_warriors2015-2016', 'washington_wizards2015-2016', 'new_york_knicks2015-2016', 'golden_state_warriors2014-2015', 'washington_wizards2014-2015', 'boston_celtics2014-2015', 'new_york_knicks2014-2015', 'philadelphia_76ers2013-2014', 'los_angeles_lakers2013-2014', 'milwaukee_bucks2013-2014', 'washington_wizards2013-2014', 'dallas_mavericks2013-2014', 'detroit_pistons2013-2014', 'new_york_knicks2013-2014', 'los_angeles_clippers2012-2013', 'cleveland_cavaliers2012-2013', 'philadelphia_76ers2012-2013', 'houston_rockets2012-2013', 'washington_wizards2012-2013', 'dallas_mavericks2012-2013', 'detroit_pistons2012-2013'] 48 48 48\n"
     ]
    }
   ],
   "source": [
    "#(0,5) + (0,4) -> 18 iterations, missed 2 out of 20\n",
    "#(5,10) + (0,4) -> 17 iterations, missed 3 out of 20\n",
    "#(10,15) + (0,4) -> 20 iterations, missed 0 out of 20\n",
    "#(15,20) + (0,4) -> 16 iterations, missed 4 out of 20 \n",
    "#(20,25) + (0,4) -> 19 iterations, missed 1 out of 20 \n",
    "#(25,30) + (0,4) -> 11 iterations, missed 9 out of 20 \n",
    "\n",
    "#(:)(4,5) -> missed 6\n",
    "#(:)(5,6) -> missed 3\n",
    "#(1:)(6,7) -> missed 6\n",
    "\n",
    "\n",
    "\n",
    "i=[5,3,4,4,4,8,8,17,17,18,19,23,25,28,28,28,28,29,29,29,29,5,6,8,10,23,24,6,13,26,6,13,19,26,4,10,11,13,14,25,26,2,3,4,8,13,14,25,27,29,2,3,6,7,11,12,17,18,21,25]\n",
    "j=[0,3,3,5,6,2,3,2 ,3 ,3 ,2 ,2 , 2, 0, 1, 2, 3, 0, 1, 2, 3,4,4,4, 4, 4, 4,5, 5, 5,6, 6, 6, 6,7, 7, 7, 7, 7, 7, 7,8,8,8,8, 8, 8, 8, 8, 8,9,9,9,9, 9, 9, 9, 9, 9, 9]\n",
    "k=0\n",
    "ex=[]\n",
    "\n",
    "for k in range(0,len(i)):\n",
    "    ex.append(f\"{team_names[i[k]]}{years[j[k]]}\")\n",
    "    \n",
    "print(ex, len(ex),len(i),len(j))"
   ]
  },
  {
   "cell_type": "code",
   "execution_count": 64,
   "metadata": {},
   "outputs": [],
   "source": [
    "max=36"
   ]
  },
  {
   "cell_type": "code",
   "execution_count": 62,
   "metadata": {},
   "outputs": [
    {
     "name": "stdout",
     "output_type": "stream",
     "text": [
      "['miami_heat2020-2021', 'cleveland_cavaliers2017-2018', 'philadelphia_76ers2017-2018', 'philadelphia_76ers2015-2016']\n"
     ]
    }
   ],
   "source": [
    "print(ex)"
   ]
  },
  {
   "cell_type": "code",
   "execution_count": null,
   "metadata": {},
   "outputs": [],
   "source": [
    "payrolls=dict()\n",
    "counter=0\n",
    "for i in range(21,len(team_names)):\n",
    "    for j in range(9,10):\n",
    "        \n",
    "        #Those are the combinations that gives us problimatic URL in term of importing players positions so we are discarding them \n",
    "        if (i==5 and j==0) or (i==3 and j==3) or (i==4 and j==3) or (i==4 and j==5) or (i==4 and j==6):\n",
    "            continue\n",
    "        elif (i==8 and j==2) or (i==8 and j==3) or (i==17 and j==2) or (i==17 and j==3) or (i==18 and j==3):\n",
    "            continue\n",
    "        elif (i==19 and j==2) or (i==23 and j==2) or (i==25 and j==2) or (i==28 and j==0) or (i==28 and j==1): \n",
    "            continue\n",
    "        elif (i==28 and j==3) or (i==29 and j==0) or (i==29 and j==1) or (i==29 and j==2) or (i==29 and j==3): \n",
    "            continue\n",
    "        elif (i==28 and j==2) or (i==5 and j==4) or (i==6 and j==4) or (i==8 and j==4) or (i==10 and j==4): \n",
    "            continue   \n",
    "        elif (i==23 and j==4) or (i==24 and j==4) or (i==6 and j==5) or (i==13 and j==5) or (i==26 and j==5):\n",
    "            continue     \n",
    "        elif (i==6 and j==6) or (i==13 and j==6) or (i==19 and j==6) or (i==26 and j==6) or (i==4 and j==7):\n",
    "            continue\n",
    "        elif (i==10 and j==7) or (i==11 and j==7) or (i==13 and j==7) or (i==14 and j==7) or (i==25 and j==7):\n",
    "            continue    \n",
    "        elif (i==26 and j==7) or (i==2 and j==8) or (i==3 and j==8) or (i==4 and j==8) or (i==8 and j==8):\n",
    "            continue    \n",
    "        elif (i==13 and j==8) or (i==14 and j==8) or (i==25 and j==8) or (i==27 and j==8) or (i==29 and j==8):\n",
    "            continue    \n",
    "        elif (i==2 and j==9) or (i==3 and j==9) or (i==6 and j==9) or (i==7 and j==9) or (i==11 and j==9):\n",
    "            continue    \n",
    "        elif (i==12 and j==9) or (i==17 and j==9) or (i==18 and j==9) or (i==21 and j==9) or (i==25 and j==9):\n",
    "            continue    \n",
    "            \n",
    "            \n",
    "            \n",
    "            \n",
    "            \n",
    "        url = f\"https://hoopshype.com/salaries/{team_names[i]}/{years[j]}/\"\n",
    "        \n",
    "        salary_table = []\n",
    "        try:\n",
    "            r = requests.get(url,timeout=3)\n",
    "            r_html = r.text\n",
    "            soup = BeautifulSoup(r_html, 'html.parser')\n",
    "            salary_table = soup.find('table')\n",
    "        except:\n",
    "            print(\"Something wrong\")\n",
    "\n",
    "        length=len(salary_table.find_all(\"td\"))\n",
    "        player_names=[salary_table.find_all(\"td\")[i].text.strip() for i in range(3,length,3)]\n",
    "        column1=[salary_table.find_all(\"td\")[i].text.strip() for i in range(4,length,3)]\n",
    "        \n",
    "        column2 = []\n",
    "        for k in range(0,len(player_names)):\n",
    "            \n",
    "            if k == len(player_names)-1:\n",
    "                column2.append(\"NaN\")\n",
    "                break\n",
    "            \n",
    "            player_name_trans = player_names[k].replace(' ','-')\n",
    "            \n",
    "            url_player = f\"https://hoopshype.com/player/{player_name_trans}/salary/\"\n",
    "            \n",
    "            r = requests.get(url_player,timeout=5)\n",
    "            r_html = r.text\n",
    "\n",
    "            soup = BeautifulSoup(r_html, 'html.parser')\n",
    "            htmlText = soup.find_all(\"span\", class_=\"player-bio-text-line-value\")\n",
    "            positionString = str(htmlText[0])\n",
    "\n",
    "            position = positionString.find(\">\")\n",
    "\n",
    "            column2.append(positionString[position+1])\n",
    "            \n",
    "            \n",
    "        \n",
    "        salary_table = []\n",
    "        try:\n",
    "            r = requests.get(url,timeout=3)\n",
    "            r_html = r.text\n",
    "            soup = BeautifulSoup(r_html, 'html.parser')\n",
    "            salary_table = soup.find('table')\n",
    "        except:\n",
    "            print(\"Something wrong\")\n",
    "\n",
    "        df_dict={'player_names':player_names,\n",
    "                'salary ($)':column1,\n",
    "                    'position':column2}\n",
    "        \n",
    "        \n",
    "        \n",
    "        tempDataFrame=pd.DataFrame(df_dict)\n",
    "        \n",
    "        tempDataFrame.replace({'\\$':''}, regex = True,inplace=True)\n",
    "        tempDataFrame.replace(',','', regex=True, inplace=True)\n",
    "        for item in tempDataFrame.columns[1:2]:\n",
    "            tempDataFrame[item]=pd.to_numeric(tempDataFrame[item])\n",
    "            \n",
    "        print(tempDataFrame)\n",
    "        counter=counter+1\n",
    "        print(counter,i,j)\n",
    "        payrolls[f\"{team_names[i]}{years[j]}\"] = tempDataFrame"
   ]
  },
  {
   "cell_type": "code",
   "execution_count": 2,
   "metadata": {},
   "outputs": [
    {
     "data": {
      "text/plain": [
       "234"
      ]
     },
     "execution_count": 2,
     "metadata": {},
     "output_type": "execute_result"
    }
   ],
   "source": [
    "champions = [\"milwaukee_bucks2020-2021\", \"los_angeles_lakers2019-2020\", \"toronto_raptors2018-2019\", \"golden_state_warriors2017-2018\",\"golden_state_warriors2016-2017\",\n",
    "            \"cleveland_cavaliers2015-2016\", \"golden_state_warriors2014-2015\",\"san_antonio_spurs2013-2014\",\"miami_heat2012-2013\",\"miami_heat2011-2012\",\n",
    "            \"dallas_mavericks2010-2011\",\"los_angeles_lakers2009-2010\",\"los_angeles_lakers2008-2009\",\"boston_celtics2007-2008\",\"san_antonio_spurs2006-2007\",\n",
    "            \"miami_heat2005-2006\",\"san_antonio_spurs2004-2005\",\"detroit_pistons2003-2004\",\"san_antonio_spurs2002-2003\", \"los_angeles_lakers2001-2002\"]\n",
    "\n",
    "top4 = [\"phoenix_suns2020-2021\",\"los_angeles_clippers2020-2021\",\"atlanta_hawks2020-2021\",\n",
    "        \"denver_nuggets2019-2020\",\"boston_celtics2019-2020\",\"miami_heat2019-2020\",\n",
    "        \"milwaukee_bucks2018-2019\",\"golden_state_warriors2018-2019\",\"portland_trail_blayzers2018-2019\",\n",
    "        \"houston_rockets2017-2018\",\"cleveland_cavaliers2017-2018\",\"boston_celtics2017-2018\",\n",
    "       \"cleveland_cavaliers2016-2017\",\"boston_celtics2016-2017\",\"san_antonio_spurs2016-2017\",\n",
    "       \"golden_state_warriors2015-2016\",\"oklahoma_city_thunders2015-2016\",\"toronto_raptors2015-2016\",\n",
    "       \"cleveland_cavaliers2014-2015\",\"atlanta_hawks2014-2015\",\"houston_rockets2014-2015\",\n",
    "       \"oklahoma_city_thunders2013-2014\",\"indiana_pacers2013-2014\",\"miami_heat2013-2014\",\n",
    "       \"indiana_pacers2012-2013\",\"san_antonio_spurs2012-2013\",\"memphis_grizzlies\",\n",
    "       \"oklahoma_city_thunders2011-2012\",\"san_antonio_spurs2011-2012\",\"boston_celtics2011-2012\",\n",
    "       \"oklahoma_city_thunders2010-2011\",\"miami_heat2010-2011\",\"chicago_bulls2010-2011\",\n",
    "       \"boston_celtics2009-2010\",\"orlando_magic2009-2010\",\"phoenix_suns2009-2010\",\n",
    "       \"denver_nuggets2008-2009\",\"orlando_magic2008-2009\",\"cleveland_cavaliers2008-2009\",\n",
    "       \"detroit_pistons2007-2008\",\"san_antonio_spurs2007-2008\",\"los_angeles_lakers2007-2008\",\n",
    "       \"utah_jazz2006-2007\",\"cleveland_cavaliers2006-2007\",\"detroit_pistons2006-2007\",\n",
    "       \"detroit_pistons2005-2006\",\"dallas_mavericks2005-2006\",\"phoenix_suns2005-2006\",\n",
    "       \"phoenix_suns2004-2005\",\"detroit_pistons2004-2005\",\"miami_heat2004-2005\",\n",
    "       \"indiana_pacers2003-2004\",\"los_angeles_lakers2003-2004\",\"minnesota_timberwolves2003-2004\",\n",
    "       \"dallas_mavericks2002-2003\",\"brooklyn_nets2002-2003\",\"detroit_pistons2002-2003\",\n",
    "       \"brooklyn_nets2001-2002\",\"boston_celtics2001-2002\",\"sacramento_kings2001-2002\"]\n",
    "\n",
    "midfield = [\"miami_heat2020-2021\",\"boston_celtics020-2021\",\"utah_jazz2020-2021\",\"denver_nuggets2020-2021\",\n",
    "            \"orlando_magic2019-2020\",\"indiana_pacers2019-2020\",\"philadelphia_76ers2019-2020\",\"brooklyn_nets2019-2020\",\"portland_pacers2019-2020\",\"oklahoma_city_thunders2019-2020\",\"utah_jazz2019-2020\",\"dallas_mavericks2019-2020\",\n",
    "           \"milwaukee_bucks2019-2020\",\"toronto_raptors2019-2020\",\"houston_rockets2019-2020\",\"los_angeles_clippers2019-2020\",\n",
    "           \"detroit_pistons2018-2019\",\"indiana_pacers2018-2019\",\"brooklyn_nets2018-2019\",\"orlando_magic2018-2019\",\"los_angeles_clippers2018-2019\",\"utah_jazz2018-2019\",\"oklahoma_city_thunder2018-2019\",\"san_antonio_spurs2018-2019\",\n",
    "           \"boston_celtics2018-2019\",\"philadelphia_76ers2018-2019\",\"houston_rockets2018-2019\",\"denver_nuggets2018-2019\",\n",
    "           \"washington_wizards2017-2018\",\"indiana_pacers2017-2018\",\"miami_heat2017-2018\",\"milwaukee_bucks2017-2018\",\"minnesota_timberwolves2017-2018\",\"oklahoma_city_thunder2017-2018\",\"portland_trail_blazers2017-2018\",\"san_antonio_spurs2017-2018\",\n",
    "           \"toronto_raptors2017-2018\",\"philadelphia_76ers2017-2018\",\"utah_jazz2017-2018\",\"new_orleans_pelicans2017-2018\",\n",
    "           \"chicago_bulls2016-2017\",\"atlanta_hawks2016-2017\",\"milwaukee_bucks2016-2017\",\"indiana_pacers2016-2017\",\"portland_trail_blazers2016-2017\",\"los_angeles_clippers2016-2017\",\"oklahoma_city_thunder2016-2017\",\"memphis_grizzlies2016-2017\",\n",
    "           \"washington_wizards2016-2017\",\"toronto_raptors2016-2017\",\"utah_jazz2016-2017\",\"houston_rockets2016-2017\",\n",
    "            \"detroit_pistons2015-2016\",\"boston_celtics2015-2016\",\"charlotte_hornets2015-2016\",\"indiana_pacers2015-2016\",\"houston_rockets2015-2016\",\"los_angeles_clippers2015-2016\",\"dallas_mavericks2015-2016\",\"memphis_grizzlies\",\n",
    "           \"atlanta_hawks2015-2016\",\"miami_heat2015-2016\",\"portland_trail_blazers2015-2016\",\"san_antonio_spurs2015-2016\",\n",
    "           \"brooklyn_nets2014-2015\",\"toronto_raptors2014-2015\",\"milwaukee_bucks2014-2015\",\"boston_celtics2014-2015\",\"new_orleans_pelicans2014-2015\",\"portland_trail_blazers2014-2015\",\"san_antonio_spurs2014-2015\",\"dallas_mavericks2014-2015\",\n",
    "           \"washington_wizards2014-2015\",\"chicago_bulls2014-2015\",\"memphis_grizzlies2014-2015\",\"los_angeles_clippers2014-2015\",\n",
    "           \"atlanta_hawks2013-2014\",\"chicago_bulls2013-2014\",\"toronto_raptors2013-2014\",\"charlotte_hornets2013-2014\",\"dallas_mavericks2013-2014\",\"houston_rockets2013-2014\",\"golden_state_warriors2013-2014\",\"memphis_grizzlies2013-2014\",\n",
    "            \"washington_wizards2013-2014\",\"brooklyn_nets2013-2014\",\"portland_trail_blazers2013-2014\",\"los_angeles_clippers2013-2014\",\n",
    "           \"milwaukee_bucks2012-2013\",\"brooklyn_nets2012-2013\",\"atlanta_hawks2012-2013\",\"boston_celtics2012-2013\",\"houston_rockets2012-2013\",\"los_angeles_clippers2012-2013\",\"denver_nuggets2012-2013\",\"los_angeles_lakers2012-2013\",\n",
    "           \"chicago_bulls2012-2013\",\"new_york_knicks2012-2013\",\"oklahoma_city_thunder2012-2013\",\"golden_state_warriors2012-2013\",\n",
    "            \"chicago_bulls2011-2012\",\"atlanta_hawks2011-2012\",\"orlando_magic2011-2012\",\"new_york_knicks2011-2012\",\"utah_jazz2011-2012\",\"memphis_grizzlies2011-2012\",\"denver_nuggets2011-2012\",\"dallas_mavericks2011-2012\",\n",
    "            \"philadelphia_76ers2011-2012\",\"indiana_pacers2011-2012\",\"los_angeles_clippers2011-2012\",\"los_angeles_lakers2011-2012\",\n",
    "           \"indiana_pacers2010-2011\",\"chicago_bulls2010-2011\",\"orlando_magic2010-2011\",\"new_york_knicks2010-2011\",\"philadelphia_76ers2010-2011\",\"san_antonio_spurs2010-2011\",\"denver_nuggets2010-2011\",\"portland_trail_blazers2010-2011\",\"new_orleans_pelicans2010-2011\",\n",
    "            \"atlanta_hawks2010-2011\",\"boston_celtics2010-2011\",\"memphis_grizzlies2010-2011\",\"los_angeles_lakers2010-2011\",\n",
    "            \"chicago_bulls2009-2010\",\"miami_heat2009-2010\",\"milwaukee_bucks2009-2010\",\"charlotte_hornets2009-2010\",\"oklahoma_city_thunder2009-2010\",\"denver_nuggets2009-2010\",\"portland_trail_blazers2009-2010\",\"dallas_mavericks2009-2010\",\n",
    "           \"cleveland_cavaliers2009-2010\",\"atlanta_hawks2009-2010\",\"utah_jazz2009-2010\",\"san_antonio_spurs2009-2010\",\n",
    "           \"detroit_pistons2008-2009\",\"miami_heat2008-2009\",\"philadelphia_76ers2008-2009\",\"chicago_bulls2008-2009\",\"utah_jazz2008-2009\",\"portland_trail_blazers2008-2009\",\"san_antonio_spurs2008-2009\",\"new_orleans_pelicans\",\n",
    "           \"atlanta_hawks2008-2009\",\"boston_celtics2008-2009\",\"houston_rockets2008-2009\",\"dallas_mavericks2008-2009\",\n",
    "           \"atlanta_hawks2007-2008\",\"washington_wizards2007-2008\",\"toronto_raptors2007-2008\",\"philadelphia_76ers2007-2008\",\"denver_nuggets2007-2008\",\"houston_rockets2007-2008\",\"phoenix_suns2007-2008\",\"dallas_mavericks2007-2008\",\n",
    "           \"cleveland_cavaliers2007-2008\",\"orlando_magic2007-2008\",\"utah_jazz2007-2008\",\"new_orleans_pelicans2007-2008\",\n",
    "            \"orlando_magic2006-2007\",\"miami_heat2006-2007\",\"toronto_raptors2006-2007\",\"washington_wizards2006-2007\",\"dallas_mavericks2006-2007\",\"houston_rockets2006-2007\",\"denver_nuggets2006-2007\",\"los_angeles_lakers2006-2007\",\n",
    "           \"chicago_bulls2006-2007\",\"brooklyn_nets2006-2007\",\"golden_state_warriors2006-2007\",\"phoenix_suns2006-2007\",\n",
    "           \"milwaukee_bucks2005-2006\",\"washington_wizards2005-2006\",\"indiana_pacers2005-2006\",\"chicago_bulls2005-2006\",\"sacramento_kings2005-2006\",\"memphies_grizzlies2005-2006\",\"denver_nuggets2005-2006\",\"los_angeles_lakers2005-2006\",\n",
    "           \"cleveland_cavaliers2005-2006\",\"brooklyn_nets\",\"san_antonio_spurs2005-2006\",\"los_angeles_clippers2005-2006\",\n",
    "           \"brooklyn_nets2004-2005\",\"chicago_bulls2004-2005\",\"boston_celtics2004-2005\",\"philadelphia_76ers2004-2005\",\"memphis_grizzlies2004-2005\",\"houston_rockets2004-2005\",\"sacramento_kings2004-2005\",\"denver_nuggets2004-2005\",\n",
    "           \"washington_wizards2004-2005\",\"indiana_pacers2004-2005\",\"dallas_mavericks2004-2005\",\"oklahoma_city_thunder2004-2005\",\n",
    "           \"boston_celtics2003-2004\",\"new_orleans_pelicans2003-2004\",\"milwaukee_bucks2003-2004\",\"new_york_knicks2003-2004\",\"denver_nuggets2003-2004\",\"dallas_mavericks2003-2004\",\"memphis_grizzlies2003-2004\",\"houston_rockets2003-2004\",\n",
    "           \"miami_heat2003-2004\",\"brooklyn_nets2003-2004\",\"sacramento_kings2003-2004\",\"san_antonio_spurs2003-2004\",\n",
    "            \"orlando_magic2002-2003\",\"new_orleans_pelicans2002-2003\",\"indiana_pacers2002-2003\",\"indiana_pacers2002-2003\",\"milwaukee_bucks2002-2003\",\"phoenix_suns2002-2003\",\"minnesota_timberwolves2002-2003\",\"portland_trail_blazers2002-2003\",\"utah_jazz2002-2003\",\n",
    "           \"philadelphia_76ers2002-2003\",\"boston_celtics2002-2003\",\"los_angeles_lakers2002-2003\",\"sacramento_kings2002-2003\",\n",
    "           \"indiana_pacers2001-2002\",\"orlando_magic2001-2002\",\"philadelphia_76ers2001-2002\",\"toronto_raptors2001-2002\",\"utah_jazz2001-2002\",\"minnesota_timberwolves2001-2002\",\"portland_trail_blazers2001-2002\",\"oklahoma_city_thunder2001-2002\",\n",
    "           \"charlotte_hornets2001-2002\",\"detroit_pistons2001-2002\",\"dallas_mavericks2001-2002\",\"san_antonio_spurs2001-2002\"]\n",
    "len(midfield)"
   ]
  },
  {
   "cell_type": "code",
   "execution_count": null,
   "metadata": {},
   "outputs": [],
   "source": []
  }
 ],
 "metadata": {
  "kernelspec": {
   "display_name": "Python 3",
   "language": "python",
   "name": "python3"
  },
  "language_info": {
   "codemirror_mode": {
    "name": "ipython",
    "version": 3
   },
   "file_extension": ".py",
   "mimetype": "text/x-python",
   "name": "python",
   "nbconvert_exporter": "python",
   "pygments_lexer": "ipython3",
   "version": "3.7.1"
  }
 },
 "nbformat": 4,
 "nbformat_minor": 2
}
